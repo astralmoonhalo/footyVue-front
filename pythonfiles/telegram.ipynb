{
 "cells": [
  {
   "cell_type": "code",
   "execution_count": 1,
   "metadata": {},
   "outputs": [],
   "source": [
    "import requests\n",
    "import telebot\n",
    "import moment\n",
    "from datetime import datetime\n",
    "from dotenv import dotenv_values\n",
    "config = dotenv_values(\"../.env\")\n",
    "\n"
   ]
  },
  {
   "cell_type": "code",
   "execution_count": 10,
   "metadata": {},
   "outputs": [
    {
     "ename": "NameError",
     "evalue": "name 'mysql' is not defined",
     "output_type": "error",
     "traceback": [
      "\u001b[0;31m---------------------------------------------------------------------------\u001b[0m",
      "\u001b[0;31mNameError\u001b[0m                                 Traceback (most recent call last)",
      "\u001b[0;32m/var/folders/1y/8g48f5zx3nn6c3b8x8xs5bc00000gn/T/ipykernel_85936/171926425.py\u001b[0m in \u001b[0;36m<module>\u001b[0;34m\u001b[0m\n\u001b[0;32m----> 1\u001b[0;31m mydb = mysql.connector.connect(\n\u001b[0m\u001b[1;32m      2\u001b[0m     \u001b[0mhost\u001b[0m\u001b[0;34m=\u001b[0m\u001b[0mconfig\u001b[0m\u001b[0;34m[\u001b[0m\u001b[0;34m\"DBHOST\"\u001b[0m\u001b[0;34m]\u001b[0m\u001b[0;34m,\u001b[0m\u001b[0;34m\u001b[0m\u001b[0;34m\u001b[0m\u001b[0m\n\u001b[1;32m      3\u001b[0m     \u001b[0muser\u001b[0m\u001b[0;34m=\u001b[0m\u001b[0mconfig\u001b[0m\u001b[0;34m[\u001b[0m\u001b[0;34m\"DBUSER\"\u001b[0m\u001b[0;34m]\u001b[0m\u001b[0;34m,\u001b[0m\u001b[0;34m\u001b[0m\u001b[0;34m\u001b[0m\u001b[0m\n\u001b[1;32m      4\u001b[0m     \u001b[0mpassword\u001b[0m\u001b[0;34m=\u001b[0m\u001b[0mconfig\u001b[0m\u001b[0;34m[\u001b[0m\u001b[0;34m\"DBPASS\"\u001b[0m\u001b[0;34m]\u001b[0m\u001b[0;34m,\u001b[0m\u001b[0;34m\u001b[0m\u001b[0;34m\u001b[0m\u001b[0m\n\u001b[1;32m      5\u001b[0m     \u001b[0mdatabase\u001b[0m\u001b[0;34m=\u001b[0m\u001b[0mconfig\u001b[0m\u001b[0;34m[\u001b[0m\u001b[0;34m\"DBNAME\"\u001b[0m\u001b[0;34m]\u001b[0m\u001b[0;34m\u001b[0m\u001b[0;34m\u001b[0m\u001b[0m\n",
      "\u001b[0;31mNameError\u001b[0m: name 'mysql' is not defined"
     ]
    }
   ],
   "source": [
    "\n",
    "mydb = mysql.connector.connect(\n",
    "    host=config[\"DBHOST\"],\n",
    "    user=config[\"DBUSER\"],\n",
    "    password=config[\"DBPASS\"],\n",
    "    database=config[\"DBNAME\"]\n",
    ")\n"
   ]
  },
  {
   "cell_type": "code",
   "execution_count": null,
   "metadata": {},
   "outputs": [
    {
     "name": "stdout",
     "output_type": "stream",
     "text": [
      "[{'id': 2931, 'name': 'Andorra', 'image_path': 'https://cdn.sportmonks.com/images/countries/png/short/ad.png', 'continent': 'Europe', 'sub_region': 'Southern Europe', 'world_region': 'EMEA', 'fifa': 'AND', 'iso': 'AND', 'iso2': 'AD', 'longitude': '1.5762332677841187', 'latitude': '42.5506591796875', 'flag_emoji': '🇦🇨'}]\n"
     ]
    }
   ],
   "source": [
    "\n",
    "\n",
    "mycursor = mydb.cursor(dictionary=True)\n",
    "\n",
    "mycursor.execute(\"SELECT * from countries WHERE name = 'Andorra'\")\n",
    "\n",
    "myresult = mycursor.fetchall()\n",
    "\n",
    "print(myresult)"
   ]
  },
  {
   "cell_type": "code",
   "execution_count": 79,
   "metadata": {},
   "outputs": [],
   "source": [
    "for iso in flags:\n",
    "  sql = f\"UPDATE countries SET flag_emoji = '{flags[iso]['flag']}' WHERE iso2 = '{iso.upper()}'\"\n",
    "  mycursor.execute(sql)\n",
    "\n",
    "mydb.commit()\n"
   ]
  },
  {
   "cell_type": "code",
   "execution_count": 80,
   "metadata": {},
   "outputs": [],
   "source": []
  },
  {
   "cell_type": "code",
   "execution_count": 16,
   "metadata": {},
   "outputs": [],
   "source": [
    "\n",
    "def __fetch_fixture_by_id(fixture_id):\n",
    "    # CODE SHOULD BE CHANGED TO FINDING THE FIXTURE FROM DYNAMODB\n",
    "    res = requests.get(\n",
    "        \"https://gist.githubusercontent.com/VishalBty/c3bd3bae0d4fe8e1a6ccaae1e5f7dc0c/raw/2584294579bd4c42e725fb04b0f2d72af2c22782/fixture.json\")\n",
    "    return res.json()\n",
    "\n",
    "\n",
    "def __fetch_strategy_by_id(strategy_id):\n",
    "    # CODE SHOULD BE CHANGED TO FINDING THE STRATEGY FROM MYSQL\n",
    "    res = requests.get(\n",
    "        \"https://gist.githubusercontent.com/VishalBty/7d82150efee726414a0b0b5e1d31bc61/raw/6406a50ee3b35fcfc9589e4e6d0f61c970d58752/strategy.json\")\n",
    "    return res.json()\n",
    "\n",
    "\n",
    "def __fetch_user_by_id(user_id):\n",
    "    # CODE SHOULD BE CHANGED TO FINDING THE USER FROM MYSQL\n",
    "    res = requests.get(\n",
    "        \"https://gist.githubusercontent.com/VishalBty/7d82150efee726414a0b0b5e1d31bc61/raw/6406a50ee3b35fcfc9589e4e6d0f61c970d58752/strategy.json\")\n",
    "    return res.json()\n",
    "\n",
    "\n",
    "def __field_for_probability(rule):\n",
    "    return f'probability.{rule[\"code\"]}'\n",
    "\n",
    "\n",
    "def __field_for_odds(rule):\n",
    "    return f'pre_odds.{rule[\"code\"]}'\n",
    "\n",
    "\n",
    "def __field_for_team(rule, team):\n",
    "    return f'{team}.{rule[rule[\"location\"]]}'\n",
    "\n",
    "\n",
    "def __field_for_aggregate_stats(rule):\n",
    "    if rule[\"team\"] == \"home\":\n",
    "        field = __field_for_team(rule, \"home\")\n",
    "    elif rule[\"team\"] == \"away\":\n",
    "        field = __field_for_team(rule, \"away\")\n",
    "    else:\n",
    "        field = [__field_for_team(rule, \"home\"),\n",
    "                 __field_for_team(rule, \"away\")]\n",
    "    return field\n",
    "\n",
    "\n",
    "def __format_stats_as_telegram_message(pre_match_data):\n",
    "    lines = []\n",
    "    for item in pre_match_data:\n",
    "        value = item[\"value\"]\n",
    "        label = item[\"label\"]\n",
    "        line = f\"<b>{label}</b>: {value}\"\n",
    "        lines.append(line)\n",
    "    return \"\\n\".join(lines)\n",
    "\n",
    "\n",
    "def __get_prematch_data(fixture):\n",
    "    pre_match_data = []\n",
    "    locations = {\n",
    "        \"home\": \"Home\",\n",
    "        \"away\": \"Away\",\n",
    "        \"overall\": \"Overall\",\n",
    "    }\n",
    "    teams = {\n",
    "        \"home\": \"Home\",\n",
    "        \"away\": \"Away\",\n",
    "        \"both\": \"Both Teams\",\n",
    "    }\n",
    "    for rule in strategy[\"strategy_prematch_rules\"]:\n",
    "        label = rule[\"label\"]\n",
    "        if rule[\"category\"] == \"probability\":\n",
    "            fields = __field_for_probability(rule)\n",
    "        elif rule[\"category\"] == \"odds\":\n",
    "            fields = __field_for_odds(rule)\n",
    "        else:\n",
    "            location = locations[rule[\"location\"]]\n",
    "            team = teams[rule[\"team\"]]\n",
    "            label += f\" - {team} - {location} \"\n",
    "            fields = __field_for_aggregate_stats(rule)\n",
    "\n",
    "        if not isinstance(fields, list):\n",
    "            field = fields\n",
    "        else:\n",
    "            field = fields[0]\n",
    "        value = fixture[field]\n",
    "        pre_match_data.append({\"value\": value, \"label\": label})\n",
    "    return pre_match_data\n",
    "\n",
    "\n",
    "def __create_pre_match_message(fixture, strategy, stats_message, utcoffset=0, locale=\"en-gb\"):\n",
    "    outcomes_text = strategy[\"outcomes\"]\n",
    "    #   .map(outcome => capitalize(outcome.split(\"_\").join(\" \")))\n",
    "    #   .join(\",\");\n",
    "    league_name = fixture[\"league_name\"]\n",
    "    flag_emoji = fixture[\"flag_emoji\"]\n",
    "    country_name = fixture[\"country_name\"]\n",
    "    league_text = f\"{flag_emoji or '🏆'} <b>{country_name} {league_name}</b>\"\n",
    "\n",
    "    title = strategy[\"title\"]\n",
    "    home_name = fixture[\"home_name\"]\n",
    "    away_name = fixture[\"away_name\"]\n",
    "    note = strategy[\"note\"]\n",
    "    unix_timestamp = fixture[\"timestamp\"] * 1000\n",
    "\n",
    "    match_time = moment.unix(\n",
    "        unix_timestamp, utc=True).strftime(\"%d %b %Y %I:%M\")\n",
    "    lines = [\n",
    "        f\"🔔 <b>{title}</b>\",\n",
    "        \"\",\n",
    "        f\"🆚 <b>{home_name}</b> v <b>{away_name}</b>\",\n",
    "        \"\",\n",
    "        league_text,\n",
    "        \"\",\n",
    "        f\"<b>🥅 Desired Outcome:</b> {outcomes_text}\",\n",
    "        \"\",\n",
    "        stats_message,\n",
    "        \"\",\n",
    "        f\"\"\"<b>Match Time:</b> {match_time}\"\"\"\n",
    "    ]\n",
    "    if note:\n",
    "        note_text = f\"\\n<b>💭 My Note</b>\\n{note}\"\n",
    "        lines.append(note_text)\n",
    "\n",
    "    message = \"\\n\".join(lines)\n",
    "    return message\n",
    "\n",
    "\n",
    "def __send_telegram_alert(chat_id, message):\n",
    "    TOKEN = config[\"TELEGRAMBOTTOKEN\"]\n",
    "    bot = telebot.TeleBot(TOKEN)\n",
    "    return bot.send_message(chat_id, message,  parse_mode=\"HTML\")\n"
   ]
  },
  {
   "cell_type": "code",
   "execution_count": 17,
   "metadata": {},
   "outputs": [],
   "source": [
    "\n",
    "fixture_id = 18213330\n",
    "strategy_id = 35\n",
    "user_id = 12\n",
    "\n",
    "user = {\"chat_id\": 342833991} #__fetch_user_by_id(user_id)\n",
    "strategy = __fetch_strategy_by_id(strategy_id)\n",
    "fixture = __fetch_fixture_by_id(fixture_id)\n",
    "chat_id = user[\"chat_id\"]"
   ]
  },
  {
   "cell_type": "code",
   "execution_count": 18,
   "metadata": {},
   "outputs": [],
   "source": [
    "pre_match_data = __get_prematch_data(fixture)\n",
    "stats_message = __format_stats_as_telegram_message(pre_match_data)"
   ]
  },
  {
   "cell_type": "markdown",
   "metadata": {},
   "source": []
  },
  {
   "cell_type": "code",
   "execution_count": 19,
   "metadata": {},
   "outputs": [],
   "source": [
    "message = __create_pre_match_message(fixture, strategy, stats_message)"
   ]
  },
  {
   "cell_type": "code",
   "execution_count": 20,
   "metadata": {},
   "outputs": [
    {
     "data": {
      "text/plain": [
       "<telebot.types.Message at 0x1077a96a0>"
      ]
     },
     "execution_count": 20,
     "metadata": {},
     "output_type": "execute_result"
    }
   ],
   "source": [
    "__send_telegram_alert(chat_id=chat_id, message=message)\n"
   ]
  },
  {
   "cell_type": "code",
   "execution_count": null,
   "metadata": {},
   "outputs": [],
   "source": []
  }
 ],
 "metadata": {
  "interpreter": {
   "hash": "31f2aee4e71d21fbe5cf8b01ff0e069b9275f58929596ceb00d14d90e3e16cd6"
  },
  "kernelspec": {
   "display_name": "Python 3.8.2 64-bit",
   "name": "python3"
  },
  "language_info": {
   "codemirror_mode": {
    "name": "ipython",
    "version": 3
   },
   "file_extension": ".py",
   "mimetype": "text/x-python",
   "name": "python",
   "nbconvert_exporter": "python",
   "pygments_lexer": "ipython3",
   "version": "3.8.9"
  },
  "orig_nbformat": 4
 },
 "nbformat": 4,
 "nbformat_minor": 2
}
