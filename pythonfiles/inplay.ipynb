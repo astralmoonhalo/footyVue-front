{
 "cells": [
  {
   "cell_type": "code",
   "execution_count": 26,
   "metadata": {},
   "outputs": [],
   "source": [
    "strategy = {\n",
    "    \"id\": 33,\n",
    "    \"title\": \"Why don't we Just?\",\n",
    "    \"type\": \"in-play\",\n",
    "    \"outcomes\": [\n",
    "      \"home_win\"\n",
    "    ],\n",
    "    \"is_public\": 1,\n",
    "    \"timer\": {\n",
    "      \"to\": 70,\n",
    "      \"from\": 0,\n",
    "      \"time\": \"atMinuteX\",\n",
    "      \"minute\": 75\n",
    "    },\n",
    "    \"hit_rate\": \"0.00\",\n",
    "    \"fixtures_found\": 0,\n",
    "    \"last_checked\": None,\n",
    "    \"trusted\": 0,\n",
    "    \"active\": 1,\n",
    "    \"leagues\": [\n",
    "      1117,\n",
    "      1515,\n",
    "      1103,\n",
    "      154,\n",
    "      157,\n",
    "      160,\n",
    "      163,\n",
    "      166,\n",
    "      169,\n",
    "      94,\n",
    "      97,\n",
    "    ],\n",
    "    \"note\": \"\",\n",
    "    \"user_id\": 1,\n",
    "    \"created_at\": \"2021-09-22T03:24:17.000Z\",\n",
    "    \"updated_at\": \"2021-09-22T03:24:17.000Z\",\n",
    "    \"strategy_prematch_rules\": [\n",
    "      {\n",
    "        \"code\": \"played\",\n",
    "        \"category\": \"general\",\n",
    "        \"overall\": \"played_overall\",\n",
    "        \"home\": \"played_home\",\n",
    "        \"away\": \"played_away\",\n",
    "        \"id\": 24,\n",
    "        \"strategy_id\": 33,\n",
    "        \"uid\": \"played_general\",\n",
    "        \"location\": \"overall\",\n",
    "        \"team\": \"both\",\n",
    "        \"comparator\": \"=\",\n",
    "        \"value\": \"1.00\",\n",
    "        \"values\": [\n",
    "          15,\n",
    "          60\n",
    "        ]\n",
    "      }\n",
    "    ],\n",
    "    \"strategy_inplay_rules\": [\n",
    "      {\n",
    "        \"first_code\": \"goals\",\n",
    "        \"second_code\": \"goals\",\n",
    "        \"first_category\": \"statistics\",\n",
    "        \"second_category\": \"statistics\",\n",
    "        \"comparator\": \"=\",\n",
    "        \"value\": 1,\n",
    "        \"first_team\": \"home\",\n",
    "        \"second_team\": \"away\"\n",
    "      },\n",
    "       {\n",
    "        \"first_code\": \"corners\",\n",
    "        \"second_code\": \"corners\",\n",
    "        \"first_category\": \"statistics\",\n",
    "        \"second_category\": \"numeric\",\n",
    "        \"comparator\": \"=\",\n",
    "        \"value\": 8,\n",
    "        \"first_team\": \"either_team\",\n",
    "        \"second_team\": \"away\"\n",
    "    },\n",
    "      {\n",
    "        \"first_code\": \"ft_result\",\n",
    "        \"second_code\": \"goals\",\n",
    "        \"first_category\": \"odds\",\n",
    "        \"second_category\": \"numeric\",\n",
    "        \"comparator\": \"=\",\n",
    "        \"value\": 23,\n",
    "        \"first_team\": \"sum_of_teams\",\n",
    "        \"second_team\": \"away\"\n",
    "      },\n",
    "      {\n",
    "        \"first_code\": \"ft_result\",\n",
    "        \"second_code\": \"goals\",\n",
    "        \"first_category\": \"odds\",\n",
    "        \"second_category\": \"odds\",\n",
    "        \"comparator\": \"=\",\n",
    "        \"value\": 23,\n",
    "        \"first_team\": \"winning_team\",\n",
    "        \"second_team\": \"losing_team\"\n",
    "      }\n",
    "    ]\n",
    "  }"
   ]
  },
  {
   "cell_type": "code",
   "execution_count": 27,
   "metadata": {},
   "outputs": [],
   "source": [
    "def __parse_time(timer):\n",
    "    from_minute = timer[\"from\"]\n",
    "    to_minute = timer[\"to\"]\n",
    "    time = timer[\"time\"]\n",
    "    minute = timer[\"minute\"]\n",
    "\n",
    "    time_map = {\n",
    "        \"disabled\": \"minute != NULL\",\n",
    "        \"atMinuteX\": f\"minute = {minute}\",\n",
    "        \"xMinutesAgo\": f\"minute = minute - {minute}\",\n",
    "        \"betweenMinutesXandY\": f\"minute BETWEEN {from_minute} to {to_minute}\",\n",
    "        \"pastXminutes\": f\"minute > minute - {minute}\",\n",
    "        \"sinceMinuteX\": f\"minute >= {minute}\",\n",
    "        \"untilMinuteX\": f\"minute <= {minute}\",\n",
    "        \"during1stHalf\": \"minute <= 45\",\n",
    "        \"during2ndHalf\": \"minute > 45\",\n",
    "        \"atHalfTime\": \"minute = 45\",\n",
    "        \"atFullTime\": \"minute = 90\"\n",
    "    }\n",
    "    return time_map[time]\n"
   ]
  },
  {
   "cell_type": "code",
   "execution_count": 28,
   "metadata": {},
   "outputs": [],
   "source": [
    "def __has_team(code, category):\n",
    "    if category == \"odds\":\n",
    "        if code in {\"dnb\", \"ht_result\", \"ft_result\"}:\n",
    "            return True\n",
    "    else:\n",
    "        return True\n",
    "    return False\n",
    "\n",
    "\n",
    "def __parse_single_rule(code, category, team):\n",
    "    if category == \"odds\":\n",
    "        table_name = \"liveodds\"\n",
    "    else:\n",
    "        table_name = \"stats\"\n",
    "    if category == \"statistics\":\n",
    "        if team == \"sum_of_teams\":\n",
    "            return f\"{table_name}.home.{code} + {table_name}.away.{code}\"\n",
    "        elif team == \"either_team\":\n",
    "            return [f\"{table_name}.home.{code}\", f\"{table_name}.away.{code}\"]\n",
    "        else:\n",
    "            return f\"{table_name}.{team}.{code}\"\n",
    "    elif __has_team(code, category):\n",
    "        if team == \"sum_of_teams\":\n",
    "            return f\"{table_name}.{code}_home + {table_name}.{code}_away\"\n",
    "        elif team == \"either_team\":\n",
    "            return [f\"{table_name}.{code}_home\", f\"{table_name}.{code}_away\"]\n",
    "        else:\n",
    "            return f\"{table_name}.{code}_{team}\"\n",
    "    else:\n",
    "        return f\"{table_name}.{code}\"\n",
    "\n",
    "# def get_table_name()\n",
    "\n",
    "def __parse_rule(first_code, second_code, first_category, second_category, comparator, value, first_team, second_team):\n",
    "    first_field = __parse_single_rule(code=first_code, category=first_category, team=first_team)\n",
    "    if second_category == \"numeric\":\n",
    "      second_field = value\n",
    "    else:\n",
    "      second_field = __parse_single_rule(code=second_code, category=second_category, team=second_team)\n",
    "    if not isinstance(first_field, list):\n",
    "        return f\"{first_field} {comparator} {second_field}\"\n",
    "    else:\n",
    "        return \" AND \".join(map(lambda field: f\"{field} {comparator} {second_field}\", first_field))\n"
   ]
  },
  {
   "cell_type": "code",
   "execution_count": null,
   "metadata": {},
   "outputs": [],
   "source": []
  },
  {
   "cell_type": "code",
   "execution_count": 29,
   "metadata": {},
   "outputs": [],
   "source": [
    "in_play_conditions = []\n",
    "for rule in strategy[\"strategy_inplay_rules\"]:\n",
    "  first_code = rule[\"first_code\"]\n",
    "  second_code = rule[\"second_code\"]\n",
    "  first_category = rule[\"first_category\"]\n",
    "  second_category = rule[\"second_category\"]\n",
    "  comparator = rule[\"comparator\"]\n",
    "  value = rule[\"value\"]\n",
    "  first_team = rule[\"first_team\"]\n",
    "  second_team  = rule[\"second_team\"]\n",
    "  condition = __parse_rule(first_code, second_code, first_category, second_category, comparator, value, first_team, second_team)\n",
    "  in_play_conditions.append(condition)"
   ]
  },
  {
   "cell_type": "code",
   "execution_count": 30,
   "metadata": {},
   "outputs": [],
   "source": [
    "in_play_sql = \"\\nAND\\n\".join(in_play_conditions)"
   ]
  },
  {
   "cell_type": "code",
   "execution_count": 31,
   "metadata": {},
   "outputs": [],
   "source": [
    "included_leagues = \",\".join(map(str, strategy[\"leagues\"]))\n",
    "included_leagues = f\"({included_leagues})\""
   ]
  },
  {
   "cell_type": "code",
   "execution_count": 32,
   "metadata": {},
   "outputs": [],
   "source": [
    "timer_sql = __parse_time(strategy[\"timer\"])"
   ]
  },
  {
   "cell_type": "code",
   "execution_count": 33,
   "metadata": {},
   "outputs": [],
   "source": [
    "def __condition_for_probability(rule):\n",
    "  return f'probability.{rule[\"code\"]} BETWEEN {rule[\"values\"][0]} AND {rule[\"values\"][1]}'\n",
    "\n",
    "def __condition_for_odds(rule):\n",
    "  return f'odds.{rule[\"code\"]} {rule[\"comparator\"]} {rule[\"value\"]} AND odds.type = \"preodds\"'\n",
    "\n",
    "def __condition_for_team(rule, team):\n",
    "  return f'{team}.{rule[rule[\"location\"]]} BETWEEN {rule[\"values\"][0]} AND {rule[\"values\"][1]}'\n",
    "\n",
    "def __condition_for_aggregate_stats(rule):\n",
    "  if rule[\"team\"] == \"home\":\n",
    "    condition = __condition_for_team(rule, \"home\")\n",
    "  elif rule[\"team\"] == \"away\":\n",
    "    condition =  __condition_for_team(rule, \"away\")\n",
    "  else:\n",
    "    condition =__condition_for_team(rule, \"home\") + \" AND \" + __condition_for_team(rule, \"away\")\n",
    "  return condition\n",
    "\n",
    "\n",
    "pre_match_conditions = []\n",
    "for rule in strategy[\"strategy_prematch_rules\"]:\n",
    "  if rule[\"category\"] == \"probability\":\n",
    "    condition = __condition_for_probability(rule)\n",
    "  elif rule[\"category\"] == \"odds\":\n",
    "    condition = __condition_for_odds(rule)\n",
    "  else:\n",
    "    condition = __condition_for_aggregate_stats(rule)\n",
    "  pre_match_conditions.append(condition)"
   ]
  },
  {
   "cell_type": "code",
   "execution_count": 34,
   "metadata": {},
   "outputs": [],
   "source": [
    "pre_match_sql = \"\\nAND\\n\".join(pre_match_conditions)"
   ]
  },
  {
   "cell_type": "code",
   "execution_count": 35,
   "metadata": {},
   "outputs": [
    {
     "data": {
      "text/plain": [
       "'home.played_overall BETWEEN 15 AND 60 AND away.played_overall BETWEEN 15 AND 60'"
      ]
     },
     "execution_count": 35,
     "metadata": {},
     "output_type": "execute_result"
    }
   ],
   "source": [
    "pre_match_sql"
   ]
  },
  {
   "cell_type": "code",
   "execution_count": 36,
   "metadata": {},
   "outputs": [
    {
     "name": "stdout",
     "output_type": "stream",
     "text": [
      "\n",
      "SELECT * FROM fixtures \n",
      "WHERE \n",
      "minute = 75\n",
      "AND\n",
      "STATUS = LIVE\n",
      "AND\n",
      "league_id in (1117,1515,1103,154,157,160,163,166,169,94,97)\n",
      "AND\n",
      "stats.home.goals = stats.away.goals\n",
      "AND\n",
      "stats.home.corners = 8 AND stats.away.corners = 8\n",
      "AND\n",
      "liveodds.home_win + liveodds.away_win = 23\n",
      "AND\n",
      "liveodds.ft_result_winning_team = liveodds.goals\n",
      "AND\n",
      "home.played_overall BETWEEN 15 AND 60 AND away.played_overall BETWEEN 15 AND 60\n"
     ]
    }
   ],
   "source": [
    "sql = f\"\"\"\n",
    "SELECT * FROM fixtures \n",
    "WHERE \n",
    "{timer_sql}\n",
    "AND\n",
    "STATUS = LIVE\n",
    "AND\n",
    "league_id in {included_leagues}\"\"\"\n",
    "\n",
    "if in_play_sql:\n",
    "  sql+= f\"\\nAND\\n{in_play_sql}\"\n",
    "if pre_match_sql:\n",
    "  sql+= f\"\\nAND\\n{pre_match_sql}\"\n",
    "\n",
    "print(sql)"
   ]
  },
  {
   "cell_type": "code",
   "execution_count": null,
   "metadata": {},
   "outputs": [],
   "source": []
  },
  {
   "cell_type": "code",
   "execution_count": null,
   "metadata": {},
   "outputs": [],
   "source": []
  }
 ],
 "metadata": {
  "interpreter": {
   "hash": "31f2aee4e71d21fbe5cf8b01ff0e069b9275f58929596ceb00d14d90e3e16cd6"
  },
  "kernelspec": {
   "display_name": "Python 3.8.2 64-bit",
   "name": "python3"
  },
  "language_info": {
   "codemirror_mode": {
    "name": "ipython",
    "version": 3
   },
   "file_extension": ".py",
   "mimetype": "text/x-python",
   "name": "python",
   "nbconvert_exporter": "python",
   "pygments_lexer": "ipython3",
   "version": "3.8.9"
  },
  "orig_nbformat": 4
 },
 "nbformat": 4,
 "nbformat_minor": 2
}
