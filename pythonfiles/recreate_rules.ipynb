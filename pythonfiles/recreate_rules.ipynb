{
 "cells": [
  {
   "cell_type": "code",
   "execution_count": 52,
   "source": [
    "with open(\"in-playrules.json\") as f:\n",
    "  in_play_rules = json.loads(f.read())"
   ],
   "outputs": [],
   "metadata": {}
  },
  {
   "cell_type": "code",
   "execution_count": 53,
   "source": [
    "with open(\"prematchrules.json\") as f:\n",
    "  pre_match_rules = json.loads(f.read())"
   ],
   "outputs": [],
   "metadata": {}
  },
  {
   "cell_type": "code",
   "execution_count": 54,
   "source": [
    "import json"
   ],
   "outputs": [],
   "metadata": {}
  },
  {
   "cell_type": "code",
   "execution_count": null,
   "source": [],
   "outputs": [],
   "metadata": {}
  },
  {
   "cell_type": "code",
   "execution_count": 55,
   "source": [
    "for rule in in_play_rules:\n",
    "    rule[\"category\"] = rule[\"subcategory\"]\n",
    "    rule[\"uid\"] = rule[\"code\"] + \"_\"+rule[\"category\"]\n",
    "    rule[\"is_in_play\"] = True\n",
    "    del rule[\"createdAt\"]\n",
    "    del rule[\"updatedAt\"]\n",
    "    del rule[\"subcategory\"]\n",
    "    del rule[\"id\"]\n"
   ],
   "outputs": [],
   "metadata": {}
  },
  {
   "cell_type": "code",
   "execution_count": 56,
   "source": [
    "for rule in pre_match_rules:\n",
    "  rule[\"uid\"] = rule[\"code\"] + \"_\"+ rule[\"category\"]\n",
    "  rule[\"is_in_play\"] = False\n",
    "  del rule[\"createdAt\"]\n",
    "  del rule[\"updatedAt\"]\n",
    "  del rule[\"id\"]"
   ],
   "outputs": [],
   "metadata": {}
  },
  {
   "cell_type": "code",
   "execution_count": 57,
   "source": [
    "with open(\"rules.json\", \"w\") as f:\n",
    "  rules = in_play_rules+pre_match_rules\n",
    "  f.write(json.dumps(rules, indent=2))"
   ],
   "outputs": [],
   "metadata": {}
  },
  {
   "cell_type": "code",
   "execution_count": null,
   "source": [],
   "outputs": [],
   "metadata": {}
  }
 ],
 "metadata": {
  "orig_nbformat": 4,
  "language_info": {
   "name": "python",
   "version": "3.8.2",
   "mimetype": "text/x-python",
   "codemirror_mode": {
    "name": "ipython",
    "version": 3
   },
   "pygments_lexer": "ipython3",
   "nbconvert_exporter": "python",
   "file_extension": ".py"
  },
  "kernelspec": {
   "name": "python3",
   "display_name": "Python 3.8.2 64-bit"
  },
  "interpreter": {
   "hash": "31f2aee4e71d21fbe5cf8b01ff0e069b9275f58929596ceb00d14d90e3e16cd6"
  }
 },
 "nbformat": 4,
 "nbformat_minor": 2
}