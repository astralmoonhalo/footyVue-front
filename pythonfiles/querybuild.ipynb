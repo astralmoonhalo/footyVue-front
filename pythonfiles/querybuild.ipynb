{
 "cells": [
  {
   "cell_type": "markdown",
   "metadata": {},
   "source": [
    "Example Strategy"
   ]
  },
  {
   "cell_type": "code",
   "execution_count": 1,
   "metadata": {},
   "outputs": [],
   "source": [
    "strategy = {\n",
    "    \"id\": 37,\n",
    "    \"title\": \"Test A\",\n",
    "    \"outcomes\": [\n",
    "        \"home_win\"\n",
    "    ],\n",
    "    \"is_public\": 1,\n",
    "    \"timer\": {\n",
    "        \"minute\": 15\n",
    "    },\n",
    "    \"note\": \"\",\n",
    "    \"hit_rate\": \"0.00\",\n",
    "    \"leagues\": [\n",
    "        1117,\n",
    "        1515,\n",
    "        1103,\n",
    "        1107,\n",
    "        1591,\n",
    "        1118,\n",
    "        1108,\n",
    "        711,\n",
    "        1999,\n",
    "        1570,\n",
    "        1756,\n",
    "        2004,\n",
    "        1359,\n",
    "        2027,\n",
    "        1360,\n",
    "        1361,\n",
    "        1358,\n",
    "        1675,\n",
    "        1676,\n",
    "        172,\n",
    "        1373,\n",
    "        1567,\n",
    "        812,\n",
    "        1597,\n",
    "        809,\n",
    "        893,\n",
    "        1902,\n",
    "        896,\n",
    "        \n",
    "    ],\n",
    "    \"trusted\": 0,\n",
    "    \"active\": 1,\n",
    "    \"strategy_prematch_rules\": [\n",
    "        {\n",
    "            \"code\": \"played\",\n",
    "            \"category\": \"general\",\n",
    "            \"overall\": \"played_overall\",\n",
    "            \"home\": \"played_home\",\n",
    "            \"away\": \"played_away\",\n",
    "            \"id\": 18,\n",
    "            \"strategy_id\": 37,\n",
    "            \"uid\": \"played_general\",\n",
    "            \"location\": \"overall\",\n",
    "            \"team\": \"both\",\n",
    "            \"comparator\": \"=\",\n",
    "            \"value\": \"1.00\",\n",
    "            \"values\": [\n",
    "                10,\n",
    "                60\n",
    "            ]\n",
    "        },\n",
    "        {\n",
    "            \"code\": \"home_win_probability\",\n",
    "            \"category\": \"probability\",\n",
    "            \"overall\": None,\n",
    "            \"home\": None,\n",
    "            \"away\": None,\n",
    "            \"id\": 19,\n",
    "            \"strategy_id\": 37,\n",
    "            \"uid\": \"home_win_probability\",\n",
    "            \"location\": \"overall\",\n",
    "            \"team\": \"both\",\n",
    "            \"comparator\": \"=\",\n",
    "            \"value\": \"1.00\",\n",
    "            \"values\": [\n",
    "                52,\n",
    "                100\n",
    "            ]\n",
    "        },\n",
    "        {\n",
    "            \"code\": \"home_win\",\n",
    "            \"category\": \"odds\",\n",
    "            \"overall\": None,\n",
    "            \"home\": None,\n",
    "            \"away\": None,\n",
    "            \"id\": 20,\n",
    "            \"strategy_id\": 37,\n",
    "            \"uid\": \"home_win_odds\",\n",
    "            \"location\": \"overall\",\n",
    "            \"team\": \"both\",\n",
    "            \"comparator\": \">=\",\n",
    "            \"value\": \"1.40\",\n",
    "            \"values\": [\n",
    "                0,\n",
    "                100\n",
    "            ]\n",
    "        }\n",
    "    ],\n",
    "    \"strategy_inplay_rules\": []\n",
    "}\n"
   ]
  },
  {
   "cell_type": "code",
   "execution_count": 2,
   "metadata": {},
   "outputs": [
    {
     "ename": "NameError",
     "evalue": "name 'strategy' is not defined",
     "output_type": "error",
     "traceback": [
      "\u001b[0;31m---------------------------------------------------------------------------\u001b[0m",
      "\u001b[0;31mNameError\u001b[0m                                 Traceback (most recent call last)",
      "\u001b[0;32m/var/folders/1y/8g48f5zx3nn6c3b8x8xs5bc00000gn/T/ipykernel_22867/1723904175.py\u001b[0m in \u001b[0;36m<module>\u001b[0;34m\u001b[0m\n\u001b[1;32m     23\u001b[0m \u001b[0;34m\u001b[0m\u001b[0m\n\u001b[1;32m     24\u001b[0m \u001b[0mconditions\u001b[0m \u001b[0;34m=\u001b[0m \u001b[0;34m[\u001b[0m\u001b[0;34m]\u001b[0m\u001b[0;34m\u001b[0m\u001b[0;34m\u001b[0m\u001b[0m\n\u001b[0;32m---> 25\u001b[0;31m \u001b[0;32mfor\u001b[0m \u001b[0mrule\u001b[0m \u001b[0;32min\u001b[0m \u001b[0mstrategy\u001b[0m\u001b[0;34m[\u001b[0m\u001b[0;34m\"strategy_prematch_rules\"\u001b[0m\u001b[0;34m]\u001b[0m\u001b[0;34m:\u001b[0m\u001b[0;34m\u001b[0m\u001b[0;34m\u001b[0m\u001b[0m\n\u001b[0m\u001b[1;32m     26\u001b[0m   \u001b[0;32mif\u001b[0m \u001b[0mrule\u001b[0m\u001b[0;34m[\u001b[0m\u001b[0;34m\"category\"\u001b[0m\u001b[0;34m]\u001b[0m \u001b[0;34m==\u001b[0m \u001b[0;34m\"probability\"\u001b[0m\u001b[0;34m:\u001b[0m\u001b[0;34m\u001b[0m\u001b[0;34m\u001b[0m\u001b[0m\n\u001b[1;32m     27\u001b[0m     \u001b[0mcondition\u001b[0m \u001b[0;34m=\u001b[0m \u001b[0m__condition_for_probability\u001b[0m\u001b[0;34m(\u001b[0m\u001b[0mrule\u001b[0m\u001b[0;34m)\u001b[0m\u001b[0;34m\u001b[0m\u001b[0;34m\u001b[0m\u001b[0m\n",
      "\u001b[0;31mNameError\u001b[0m: name 'strategy' is not defined"
     ]
    }
   ],
   "source": [
    "\n",
    "def __condition_for_probability(rule):\n",
    "  return f'probability.{rule[\"code\"]} BETWEEN {rule[\"values\"][0]} AND {rule[\"values\"][1]}'\n",
    "\n",
    "def __condition_for_odds(rule):\n",
    "  return f'odds.{rule[\"code\"]} {rule[\"comparator\"]} {rule[\"value\"]} AND odds.type = \"preodds\"'\n",
    "\n",
    "def __condition_for_team(rule, team):\n",
    "  return f'{team}.{rule[rule[\"location\"]]} BETWEEN {rule[\"values\"][0]} AND {rule[\"values\"][1]}'\n",
    "\n",
    "def __condition_for_aggregate_stats(rule):\n",
    "  if rule[\"team\"] == \"home\":\n",
    "    condition = __condition_for_team(rule, \"home\")\n",
    "  elif rule[\"team\"] == \"away\":\n",
    "    condition =  __condition_for_team(rule, \"away\")\n",
    "  else:\n",
    "    condition =__condition_for_team(rule, \"home\") + \" AND \" + __condition_for_team(rule, \"away\")\n",
    "  return condition\n",
    "\n",
    "\n",
    "conditions = []\n",
    "for rule in strategy[\"strategy_prematch_rules\"]:\n",
    "  if rule[\"category\"] == \"probability\":\n",
    "    condition = __condition_for_probability(rule)\n",
    "  elif rule[\"category\"] == \"odds\":\n",
    "    condition = __condition_for_odds(rule)\n",
    "  else:\n",
    "    condition = __condition_for_aggregate_stats(rule)\n",
    "  conditions.append(condition)"
   ]
  },
  {
   "cell_type": "markdown",
   "metadata": {},
   "source": []
  },
  {
   "cell_type": "code",
   "execution_count": 1,
   "metadata": {},
   "outputs": [
    {
     "ename": "NameError",
     "evalue": "name 'conditions' is not defined",
     "output_type": "error",
     "traceback": [
      "\u001b[0;31m---------------------------------------------------------------------------\u001b[0m",
      "\u001b[0;31mNameError\u001b[0m                                 Traceback (most recent call last)",
      "\u001b[0;32m/var/folders/1y/8g48f5zx3nn6c3b8x8xs5bc00000gn/T/ipykernel_22867/4220255880.py\u001b[0m in \u001b[0;36m<module>\u001b[0;34m\u001b[0m\n\u001b[0;32m----> 1\u001b[0;31m \u001b[0mstrategy_sql\u001b[0m \u001b[0;34m=\u001b[0m \u001b[0;34m\"\\nAND\\n\"\u001b[0m\u001b[0;34m.\u001b[0m\u001b[0mjoin\u001b[0m\u001b[0;34m(\u001b[0m\u001b[0mconditions\u001b[0m\u001b[0;34m)\u001b[0m\u001b[0;34m\u001b[0m\u001b[0;34m\u001b[0m\u001b[0m\n\u001b[0m",
      "\u001b[0;31mNameError\u001b[0m: name 'conditions' is not defined"
     ]
    }
   ],
   "source": [
    "strategy_sql = \"\\nAND\\n\".join(conditions)"
   ]
  },
  {
   "cell_type": "code",
   "execution_count": 4,
   "metadata": {},
   "outputs": [],
   "source": [
    "from datetime import datetime, timedelta\n",
    "import time\n",
    "\n",
    "after_24_hrs = datetime.now() + timedelta(hours=24) \n",
    "after_24_hrs_unix = time.mktime(after_24_hrs.timetuple())"
   ]
  },
  {
   "cell_type": "code",
   "execution_count": 5,
   "metadata": {},
   "outputs": [],
   "source": [
    "strategy_timer = strategy[\"timer\"][\"minute\"]\n",
    "after_timer_minutes = datetime.now() + timedelta(minutes=strategy_timer) \n",
    "after_timer_minutes_unix = time.mktime(after_24_hrs.timetuple())"
   ]
  },
  {
   "cell_type": "code",
   "execution_count": 6,
   "metadata": {},
   "outputs": [],
   "source": [
    "included_leagues = \",\".join(map(str, strategy[\"leagues\"]))\n",
    "included_leagues = f\"({included_leagues})\""
   ]
  },
  {
   "cell_type": "code",
   "execution_count": 8,
   "metadata": {},
   "outputs": [
    {
     "name": "stdout",
     "output_type": "stream",
     "text": [
      "\n",
      "SELECT * FROM fixtures \n",
      "WHERE \n",
      "timestamp BETWEEN 1633273573.0 AND 1633273573.0\n",
      "AND\n",
      "home.played_overall BETWEEN 10 AND 60 AND away.played_overall BETWEEN 10 AND 60\n",
      "AND\n",
      "probability.home_win_probability BETWEEN 52 AND 100\n",
      "AND\n",
      "odds.home_win >= 1.40 AND odds.type = \"preodds\"\n",
      "AND\n",
      "league_id in (1117,1515,1103,1107,1591,1118,1108,711,1999,1570,1756,2004,1359,2027,1360,1361,1358,1675,1676,172,1373,1567,812,1597,809,893,1902,896)\n"
     ]
    }
   ],
   "source": [
    "print(f\"\"\"\n",
    "SELECT * FROM fixtures \n",
    "WHERE \n",
    "timestamp BETWEEN {after_timer_minutes_unix} AND {after_24_hrs_unix}\n",
    "AND\n",
    "{strategy_sql}\n",
    "AND\n",
    "league_id in {included_leagues}\"\"\")"
   ]
  },
  {
   "cell_type": "code",
   "execution_count": null,
   "metadata": {},
   "outputs": [],
   "source": [
    "strategy[\"leagues\"]"
   ]
  },
  {
   "cell_type": "code",
   "execution_count": null,
   "metadata": {},
   "outputs": [],
   "source": [
    "import telebot\n",
    "\n",
    "TOKEN = config[\"TELEGRAMBOTTOKEN\"]\n",
    "bot = telebot.TeleBot(TOKEN)\n",
    "\n",
    "chat_id = 342833991\n",
    "\n",
    "@bot.message_handler(commands=['start', 'help'])\n",
    "def send_welcome(message):\n",
    "    bot.reply_to(message, \"Howdy, how are you doing?\")\n",
    "\n",
    "@bot.message_handler(func=lambda message: True)\n",
    "def echo_all(message):\n",
    "    bot.reply_to(message, message.text)\n",
    "\n",
    "\n",
    "# bot.send_message(message.chat.id, 'You are admin of this group'!)\n",
    "bot.infinity_polling()\n"
   ]
  }
 ],
 "metadata": {
  "interpreter": {
   "hash": "31f2aee4e71d21fbe5cf8b01ff0e069b9275f58929596ceb00d14d90e3e16cd6"
  },
  "kernelspec": {
   "display_name": "Python 3.8.2 64-bit",
   "name": "python3"
  },
  "language_info": {
   "codemirror_mode": {
    "name": "ipython",
    "version": 3
   },
   "file_extension": ".py",
   "mimetype": "text/x-python",
   "name": "python",
   "nbconvert_exporter": "python",
   "pygments_lexer": "ipython3",
   "version": "3.8.2"
  },
  "orig_nbformat": 4
 },
 "nbformat": 4,
 "nbformat_minor": 2
}
