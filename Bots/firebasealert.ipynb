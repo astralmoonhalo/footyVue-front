{
 "cells": [
  {
   "cell_type": "code",
   "execution_count": 1,
   "metadata": {},
   "outputs": [],
   "source": [
    "import certifi\n",
    "import time\n",
    "import sys\n",
    "from datetime import timedelta, date\n",
    "import datetime\n",
    "import os\n",
    "\n",
    "from variables import COUNTRIES, MONGO_URL\n",
    "import json\n",
    "import threading\n",
    "import numpy\n",
    "from sportmonks import SportMonksAPI\n",
    "from pymongo import MongoClient\n",
    "import pandas as pd\n",
    "import boto3\n",
    "from fixture_formatter import FixtureFormatter\n",
    "s3 = boto3.client('s3')\n",
    "bucket = \"footyamigo-fixtures\"\n",
    "\n",
    "formatter = FixtureFormatter()\n",
    "\n",
    "ca = certifi.where()\n",
    "\n",
    "client = MongoClient(MONGO_URL, tlsCAFile=ca)\n",
    "database = client.footyamigo\n",
    "fixtures_col = database.fixtures\n",
    "errors_collection = database.errors\n",
    "users_collection = database.users\n"
   ]
  },
  {
   "cell_type": "code",
   "execution_count": 53,
   "metadata": {},
   "outputs": [],
   "source": [
    "fixtures = fixtures_col.find({\n",
    "  \"result.goal_timings_all\": {\"$not\": {\"$elemMatch\":{\n",
    "    \"$gte\": 5,\n",
    "    \"$lte\": 15\n",
    "   } }}\n",
    "}, {\"result.goal_timings_all\": 1, \"result.goals_between_5_15\": 1}).limit(10)"
   ]
  },
  {
   "cell_type": "code",
   "execution_count": 66,
   "metadata": {},
   "outputs": [],
   "source": [
    "fixtures = fixtures_col.find({\n",
    "\"stats.home.goals\": {\"$exists\": False}\n",
    "    \n",
    "}, {\"result.goal_timings_all\": 1, \"result.goals_between_5_15\": 1, \"stats\": 1}).limit(10)\n"
   ]
  },
  {
   "cell_type": "code",
   "execution_count": 67,
   "metadata": {},
   "outputs": [
    {
     "name": "stdout",
     "output_type": "stream",
     "text": [
      "{'_id': ObjectId('617841b53641e0b1cb529e1b'), 'result': {'goal_timings_all': [], 'goals_between_5_15': False}, 'stats': {'home': {}, 'away': {}, 'combined': {}, 'winning_team': None, 'losing_team': None, 'underdog': None, 'underdog_playing_home': None, 'favorite': None, 'favorite_playing_away': None, 'underdog_playing_away': None, 'favorite_playing_home': None}}\n",
      "{'_id': ObjectId('617841ba3641e0b1cb529f38'), 'result': {'goal_timings_all': [40, 75], 'goals_between_5_15': False}, 'stats': {'home': {}, 'away': {}, 'combined': {}, 'winning_team': None, 'losing_team': None, 'underdog': None, 'underdog_playing_home': None, 'favorite': None, 'favorite_playing_away': None, 'underdog_playing_away': None, 'favorite_playing_home': None}}\n",
      "{'_id': ObjectId('617841ba3641e0b1cb529f43'), 'result': {'goal_timings_all': [25], 'goals_between_5_15': False}, 'stats': {'home': {}, 'away': {}, 'combined': {}, 'winning_team': None, 'losing_team': None, 'underdog': None, 'underdog_playing_home': None, 'favorite': None, 'favorite_playing_away': None, 'underdog_playing_away': None, 'favorite_playing_home': None}}\n",
      "{'_id': ObjectId('617841ba3641e0b1cb529f51'), 'result': {'goal_timings_all': [24, 76], 'goals_between_5_15': False}, 'stats': {'home': {}, 'away': {}, 'combined': {}, 'winning_team': None, 'losing_team': None, 'underdog': None, 'underdog_playing_home': None, 'favorite': None, 'favorite_playing_away': None, 'underdog_playing_away': None, 'favorite_playing_home': None}}\n",
      "{'_id': ObjectId('617841ba3641e0b1cb529f5d'), 'result': {'goal_timings_all': [50], 'goals_between_5_15': False}, 'stats': {'home': {}, 'away': {}, 'combined': {}, 'winning_team': None, 'losing_team': None, 'underdog': None, 'underdog_playing_home': None, 'favorite': None, 'favorite_playing_away': None, 'underdog_playing_away': None, 'favorite_playing_home': None}}\n",
      "{'_id': ObjectId('617841bb3641e0b1cb529fa0'), 'result': {'goal_timings_all': [], 'goals_between_5_15': False}, 'stats': {'home': {}, 'away': {}, 'combined': {}, 'winning_team': None, 'losing_team': None, 'underdog': None, 'underdog_playing_home': None, 'favorite': None, 'favorite_playing_away': None, 'underdog_playing_away': None, 'favorite_playing_home': None}}\n",
      "{'_id': ObjectId('617841bb3641e0b1cb529fab'), 'result': {'goal_timings_all': [], 'goals_between_5_15': False}, 'stats': {'home': {}, 'away': {}, 'combined': {}, 'winning_team': None, 'losing_team': None, 'underdog': None, 'underdog_playing_home': None, 'favorite': None, 'favorite_playing_away': None, 'underdog_playing_away': None, 'favorite_playing_home': None}}\n",
      "{'_id': ObjectId('617841bb3641e0b1cb529fb6'), 'result': {'goal_timings_all': [], 'goals_between_5_15': False}, 'stats': {'home': {}, 'away': {}, 'combined': {}, 'winning_team': None, 'losing_team': None, 'underdog': None, 'underdog_playing_home': None, 'favorite': None, 'favorite_playing_away': None, 'underdog_playing_away': None, 'favorite_playing_home': None}}\n",
      "{'_id': ObjectId('617841bb3641e0b1cb529fe0'), 'result': {'goal_timings_all': [90], 'goals_between_5_15': False}, 'stats': {'home': {}, 'away': {}, 'combined': {}, 'winning_team': None, 'losing_team': None, 'underdog': None, 'underdog_playing_home': None, 'favorite': None, 'favorite_playing_away': None, 'underdog_playing_away': None, 'favorite_playing_home': None}}\n",
      "{'_id': ObjectId('617841bc3641e0b1cb529fed'), 'result': {'goal_timings_all': [13, 40, 79], 'goals_between_5_15': True}, 'stats': {'home': {}, 'away': {}, 'combined': {}, 'winning_team': None, 'losing_team': None, 'underdog': None, 'underdog_playing_home': None, 'favorite': None, 'favorite_playing_away': None, 'underdog_playing_away': None, 'favorite_playing_home': None}}\n"
     ]
    }
   ],
   "source": [
    "for f in fixtures: \n",
    "  print(f)"
   ]
  },
  {
   "cell_type": "code",
   "execution_count": 36,
   "metadata": {},
   "outputs": [],
   "source": [
    "# fixture_ids = []\n",
    "# for i in fixtures:\n",
    "#   fixture_ids.append(i['fixture_id'])\n",
    "#   print(i['fixture_id'])"
   ]
  },
  {
   "cell_type": "code",
   "execution_count": 27,
   "metadata": {},
   "outputs": [],
   "source": [
    "fixtures = fixtures_col.find({\n",
    "  \"$ne\": {\"result.goal_timings_all\": {\"$elemMatch\": {\n",
    "        \"$gte\": 5,\n",
    "        \"$lte\": 15\n",
    "    }}\n",
    "    }\n",
    "}, {\"result.goal_timings_all\": 1, \"result.goals_between_5_15\": 1}).limit(10)\n"
   ]
  },
  {
   "cell_type": "code",
   "execution_count": 17,
   "metadata": {},
   "outputs": [
    {
     "data": {
      "text/plain": [
       "<pymongo.results.UpdateResult at 0x103841140>"
      ]
     },
     "execution_count": 17,
     "metadata": {},
     "output_type": "execute_result"
    }
   ],
   "source": [
    "fixtures_col.update_many({\n",
    "  \"result.goal_timings_all\": {\"$elemMatch\":{\n",
    "    \"$gte\": 5,\n",
    "    \"$lte\": 15\n",
    "   } }\n",
    "}, {\"$set\": {\"result.goals_between_5_15\": True, \"result.goals_between_5_15_no\": False}})"
   ]
  },
  {
   "cell_type": "code",
   "execution_count": null,
   "metadata": {},
   "outputs": [],
   "source": []
  },
  {
   "cell_type": "code",
   "execution_count": 55,
   "metadata": {},
   "outputs": [
    {
     "data": {
      "text/plain": [
       "<pymongo.results.UpdateResult at 0x1305e2ac0>"
      ]
     },
     "execution_count": 55,
     "metadata": {},
     "output_type": "execute_result"
    }
   ],
   "source": [
    "fixtures_col.update_many({\n",
    "  \"result.goal_timings_all\": {\"$not\": {\"$elemMatch\":{\n",
    "    \"$gte\": 5,\n",
    "    \"$lte\": 15\n",
    "   } }}\n",
    "}, {\"$set\": {\"result.goals_between_5_15\": False, \"result.goals_between_5_15_no\": True}})"
   ]
  },
  {
   "cell_type": "code",
   "execution_count": 73,
   "metadata": {},
   "outputs": [],
   "source": [
    "fixtures = fixtures_col.update_many({\n",
    "  \"result.o95_corners\": True \n",
    "}, {\"$set\": {\"result.u95_corners\": False }})"
   ]
  },
  {
   "cell_type": "code",
   "execution_count": 74,
   "metadata": {},
   "outputs": [],
   "source": [
    "fixtures = fixtures_col.update_many({\n",
    "  \"result.o95_corners\": False \n",
    "}, {\"$set\": {\"result.u95_corners\": True }})"
   ]
  },
  {
   "cell_type": "code",
   "execution_count": 92,
   "metadata": {},
   "outputs": [],
   "source": [
    "fixtures = fixtures_col.update_many({\n",
    "}, [{\"$set\": {\"home.league_position\": \"$home_position\", \"away.league_position\": \"$away_position\" }}])"
   ]
  },
  {
   "cell_type": "code",
   "execution_count": 91,
   "metadata": {},
   "outputs": [
    {
     "name": "stdout",
     "output_type": "stream",
     "text": [
      "{'_id': ObjectId('617841b53641e0b1cb529e10'), 'away_position': 14, 'home_position': 16, 'away': {'league_position': 14}, 'home': {'league_position': 16}}\n",
      "{'_id': ObjectId('617841b53641e0b1cb529e1b'), 'away_position': 1, 'home_position': 5, 'away': {}, 'home': {}}\n",
      "{'_id': ObjectId('617841b63641e0b1cb529e26'), 'away_position': 10, 'home_position': 17, 'away': {}, 'home': {}}\n",
      "{'_id': ObjectId('617841b63641e0b1cb529e31'), 'away_position': 3, 'home_position': 12, 'away': {}, 'home': {}}\n",
      "{'_id': ObjectId('617841b63641e0b1cb529e3c'), 'away_position': 7, 'home_position': 6, 'away': {}, 'home': {}}\n",
      "{'_id': ObjectId('617841b63641e0b1cb529e48'), 'away_position': 15, 'home_position': 16, 'away': {}, 'home': {}}\n",
      "{'_id': ObjectId('617841b63641e0b1cb529e5c'), 'away_position': 2, 'home_position': 20, 'away': {}, 'home': {}}\n",
      "{'_id': ObjectId('617841b63641e0b1cb529e67'), 'away_position': 4, 'home_position': 17, 'away': {}, 'home': {}}\n",
      "{'_id': ObjectId('617841b73641e0b1cb529e72'), 'away_position': 14, 'home_position': 6, 'away': {}, 'home': {}}\n",
      "{'_id': ObjectId('617841b73641e0b1cb529e7d'), 'away_position': 3, 'home_position': 15, 'away': {}, 'home': {}}\n"
     ]
    }
   ],
   "source": [
    "fixtures = fixtures_col.find({\n",
    "}, {\"home_position\": 1, \"home.league_position\": 1, \"away.league_position\": 1, \"away_position\":1}).limit(10)\n",
    "for f in fixtures: \n",
    "  print(f)"
   ]
  },
  {
   "cell_type": "code",
   "execution_count": 8,
   "metadata": {},
   "outputs": [],
   "source": [
    "blocked_ids = errors_collection.distinct(\"strategy.user_id\", {\"message\": \"A request to the Telegram API was unsuccessful. Error code: 403. Description: Forbidden: bot was blocked by the user\"})"
   ]
  },
  {
   "cell_type": "code",
   "execution_count": 9,
   "metadata": {},
   "outputs": [
    {
     "data": {
      "text/plain": [
       "[930, 954]"
      ]
     },
     "execution_count": 9,
     "metadata": {},
     "output_type": "execute_result"
    }
   ],
   "source": [
    "blocked_ids"
   ]
  },
  {
   "cell_type": "code",
   "execution_count": 10,
   "metadata": {},
   "outputs": [],
   "source": [
    "u = users_collection.update_many({\"id\": {\"$in\": blocked_ids}}, {\"$set\": {\"telegram\" : None}})"
   ]
  },
  {
   "cell_type": "code",
   "execution_count": null,
   "metadata": {},
   "outputs": [],
   "source": []
  },
  {
   "cell_type": "code",
   "execution_count": 20,
   "metadata": {},
   "outputs": [
    {
     "data": {
      "text/plain": [
       "<pymongo.results.UpdateResult at 0x15e5aad00>"
      ]
     },
     "execution_count": 20,
     "metadata": {},
     "output_type": "execute_result"
    }
   ],
   "source": [
    "\n",
    "u"
   ]
  },
  {
   "cell_type": "code",
   "execution_count": 2,
   "metadata": {},
   "outputs": [
    {
     "data": {
      "text/plain": [
       "<pymongo.results.DeleteResult at 0x110b8de40>"
      ]
     },
     "execution_count": 2,
     "metadata": {},
     "output_type": "execute_result"
    }
   ],
   "source": [
    "message = \"'str' object has no attribute 'trim'\"\n",
    "message =\"'home_name'\"\n",
    "message = \"'NoneType' object is not subscriptable\"\n",
    "\n",
    "message = \"\"\"error while multiplanner was selecting best plan :: caused by\"\"\"\n",
    "message = \"A request to the Telegram API was unsuccessful. Error code: 400. Description: Bad Request: chat not found\"\n",
    "\n",
    "message = \"(host='api.telegram.org', port=443)\"\n",
    "message = \"Unsupported start tag\"\n",
    "message = \"argument must be a string or a number\"\n",
    "message = \"'timer'\"\n",
    "message = \"duplicate key error collection\"\n",
    "message = \"Read-only file system\"\n",
    "message = \"bot was blocked\"\n",
    "\n",
    "# errors_collection.delete_many({\"message\": {\"$regex\": \".*\"+message+\".*\"}})\n",
    "errors_collection.delete_many({\"message\":{\"$regex\": f\".*{message}.*\"}})"
   ]
  },
  {
   "cell_type": "code",
   "execution_count": null,
   "metadata": {},
   "outputs": [],
   "source": []
  },
  {
   "cell_type": "code",
   "execution_count": null,
   "metadata": {},
   "outputs": [],
   "source": []
  }
 ],
 "metadata": {
  "interpreter": {
   "hash": "90bd059e05f79fb9b7cf5d2b1dae6ea26ca779772e058f49dd8fbe1978749df0"
  },
  "kernelspec": {
   "display_name": "Python 3.8.12 64-bit",
   "language": "python",
   "name": "python3"
  },
  "language_info": {
   "codemirror_mode": {
    "name": "ipython",
    "version": 3
   },
   "file_extension": ".py",
   "mimetype": "text/x-python",
   "name": "python",
   "nbconvert_exporter": "python",
   "pygments_lexer": "ipython3",
   "version": "3.8.12"
  },
  "orig_nbformat": 4
 },
 "nbformat": 4,
 "nbformat_minor": 2
}
