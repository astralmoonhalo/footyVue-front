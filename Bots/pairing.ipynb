{
 "cells": [
  {
   "cell_type": "code",
   "execution_count": 31,
   "metadata": {},
   "outputs": [],
   "source": [
    "x = ['o05_1h_away_cards',\n",
    "'o05_1h_away_corners',\n",
    "'o05_1h_away_goals',\n",
    "'o05_1h_cards',\n",
    "'o05_1h_corners',\n",
    "'o05_1h_goals',\n",
    "'o05_1h_home_cards',\n",
    "'o05_1h_home_corners',\n",
    "'o05_1h_home_goals',\n",
    "'o05_2h_away_cards',\n",
    "'o05_2h_away_corners',\n",
    "'o05_2h_away_goals',\n",
    "'o05_2h_cards',\n",
    "'o05_2h_corners',\n",
    "'o05_2h_goals',\n",
    "'o05_2h_home_cards',\n",
    "'o05_2h_home_corners',\n",
    "'o05_2h_home_goals',\n",
    "\n",
    "'o15_1h_away_cards',\n",
    "'o15_1h_away_corners',\n",
    "'o15_1h_away_goals',\n",
    "'o15_1h_cards',\n",
    "'o15_1h_corners',\n",
    "'o15_1h_goals',\n",
    "'o15_1h_home_cards',\n",
    "'o15_1h_home_corners',\n",
    "'o15_1h_home_goals',\n",
    "'o15_2h_away_cards',\n",
    "'o15_2h_away_corners',\n",
    "'o15_2h_away_goals',\n",
    "'o15_2h_cards',\n",
    "'o15_2h_corners',\n",
    "'o15_2h_goals',\n",
    "'o15_2h_home_cards',\n",
    "'o15_2h_home_corners',\n",
    "'o15_2h_home_goals',\n",
    "'o25_1h_away_corners',\n",
    "'o25_1h_cards',\n",
    "'o25_1h_corners',\n",
    "'o25_1h_home_corners',\n",
    "'o25_2h_away_corners',\n",
    "'o25_2h_cards',\n",
    "'o25_2h_corners',\n",
    "'o25_2h_home_corners',\n",
    "'o35_1h_away_corners',\n",
    "'o35_1h_corners',\n",
    "'o35_1h_home_corners',\n",
    "'o35_2h_away_corners',\n",
    "'o35_2h_corners',\n",
    "'o35_2h_home_corners',\n",
    "'o45_1h_away_corners',\n",
    "'o45_1h_corners',\n",
    "'o45_1h_home_corners',\n",
    "'o45_2h_away_corners',\n",
    "'o45_2h_corners',\n",
    "'o45_2h_home_corners',\n",
    "'o55_1h_corners',\n",
    "'o55_2h_corners',]"
   ]
  },
  {
   "cell_type": "code",
   "execution_count": 32,
   "metadata": {},
   "outputs": [],
   "source": [
    "y= ['o05_away_cards_1h',\n",
    "'o05_away_corners_1h',\n",
    "'o05_away_goals_1h',\n",
    "'o05_cards_1h',\n",
    "'o05_corners_1h',\n",
    "'o05_goals_1h',\n",
    "'o05_home_cards_1h',\n",
    "'o05_home_corners_1h',\n",
    "'o05_home_goals_1h',\n",
    "'o05_away_cards_2h',\n",
    "'o05_away_corners_2h',\n",
    "'o05_away_goals_2h',\n",
    "'o05_cards_2h',\n",
    "'o05_corners_2h',\n",
    "'o05_goals_2h',\n",
    "'o05_home_cards_2h',\n",
    "'o05_home_corners_2h',\n",
    "'o05_home_goals_2h',\n",
    "\n",
    "'o15_away_cards_1h',\n",
    "'o15_away_corners_1h',\n",
    "'o15_away_goals_1h',\n",
    "'o15_cards_1h',\n",
    "'o15_corners_1h',\n",
    "'o15_goals_1h',\n",
    "'o15_home_cards_1h',\n",
    "'o15_home_corners_1h',\n",
    "'o15_home_goals_1h',\n",
    "'o15_away_cards_2h',\n",
    "'o15_away_corners_2h',\n",
    "'o15_away_goals_2h',\n",
    "'o15_cards_2h',\n",
    "'o15_corners_2h',\n",
    "'o15_goals_2h',\n",
    "'o15_home_cards_2h',\n",
    "'o15_home_corners_2h',\n",
    "'o15_home_goals_2h',\n",
    "\n",
    "'o25_away_corners_1h',\n",
    "'o25_cards_1h',\n",
    "'o25_corners_1h',\n",
    "'o25_home_corners_1h',\n",
    "'o25_away_corners_2h',\n",
    "'o25_cards_2h',\n",
    "'o25_corners_2h',\n",
    "'o25_home_corners_2h',\n",
    "'o35_away_corners_1h',\n",
    "'o35_corners_1h',\n",
    "'o35_home_corners_1h',\n",
    "'o35_away_corners_2h',\n",
    "'o35_corners_2h',\n",
    "'o35_home_corners_2h',\n",
    "'o45_away_corners_1h',\n",
    "'o45_corners_1h',\n",
    "'o45_home_corners_1h',\n",
    "'o45_away_corners_2h',\n",
    "'o45_corners_2h',\n",
    "'o45_home_corners_2h',\n",
    "'o55_corners_1h',\n",
    "'o55_corners_2h']"
   ]
  },
  {
   "cell_type": "code",
   "execution_count": 34,
   "metadata": {},
   "outputs": [
    {
     "data": {
      "text/plain": [
       "{'result.o05_1h_away_cards': 'result.o05_away_cards_1h',\n",
       " 'result.o05_1h_away_corners': 'result.o05_away_corners_1h',\n",
       " 'result.o05_1h_away_goals': 'result.o05_away_goals_1h',\n",
       " 'result.o05_1h_cards': 'result.o05_cards_1h',\n",
       " 'result.o05_1h_corners': 'result.o05_corners_1h',\n",
       " 'result.o05_1h_goals': 'result.o05_goals_1h',\n",
       " 'result.o05_1h_home_cards': 'result.o05_home_cards_1h',\n",
       " 'result.o05_1h_home_corners': 'result.o05_home_corners_1h',\n",
       " 'result.o05_1h_home_goals': 'result.o05_home_goals_1h',\n",
       " 'result.o05_2h_away_cards': 'result.o05_away_cards_2h',\n",
       " 'result.o05_2h_away_corners': 'result.o05_away_corners_2h',\n",
       " 'result.o05_2h_away_goals': 'result.o05_away_goals_2h',\n",
       " 'result.o05_2h_cards': 'result.o05_cards_2h',\n",
       " 'result.o05_2h_corners': 'result.o05_corners_2h',\n",
       " 'result.o05_2h_goals': 'result.o05_goals_2h',\n",
       " 'result.o05_2h_home_cards': 'result.o05_home_cards_2h',\n",
       " 'result.o05_2h_home_corners': 'result.o05_home_corners_2h',\n",
       " 'result.o05_2h_home_goals': 'result.o05_home_goals_2h',\n",
       " 'result.o15_1h_away_cards': 'result.o15_away_cards_1h',\n",
       " 'result.o15_1h_away_corners': 'result.o15_away_corners_1h',\n",
       " 'result.o15_1h_away_goals': 'result.o15_away_goals_1h',\n",
       " 'result.o15_1h_cards': 'result.o15_cards_1h',\n",
       " 'result.o15_1h_corners': 'result.o15_corners_1h',\n",
       " 'result.o15_1h_goals': 'result.o15_goals_1h',\n",
       " 'result.o15_1h_home_cards': 'result.o15_home_cards_1h',\n",
       " 'result.o15_1h_home_corners': 'result.o15_home_corners_1h',\n",
       " 'result.o15_1h_home_goals': 'result.o15_home_goals_1h',\n",
       " 'result.o15_2h_away_cards': 'result.o15_away_cards_2h',\n",
       " 'result.o15_2h_away_corners': 'result.o15_away_corners_2h',\n",
       " 'result.o15_2h_away_goals': 'result.o15_away_goals_2h',\n",
       " 'result.o15_2h_cards': 'result.o15_cards_2h',\n",
       " 'result.o15_2h_corners': 'result.o15_corners_2h',\n",
       " 'result.o15_2h_goals': 'result.o15_goals_2h',\n",
       " 'result.o15_2h_home_cards': 'result.o15_home_cards_2h',\n",
       " 'result.o15_2h_home_corners': 'result.o15_home_corners_2h',\n",
       " 'result.o15_2h_home_goals': 'result.o15_home_goals_2h',\n",
       " 'result.o25_1h_away_corners': 'result.o25_away_corners_1h',\n",
       " 'result.o25_1h_cards': 'result.o25_cards_1h',\n",
       " 'result.o25_1h_corners': 'result.o25_corners_1h',\n",
       " 'result.o25_1h_home_corners': 'result.o25_home_corners_1h',\n",
       " 'result.o25_2h_away_corners': 'result.o25_away_corners_2h',\n",
       " 'result.o25_2h_cards': 'result.o25_cards_2h',\n",
       " 'result.o25_2h_corners': 'result.o25_corners_2h',\n",
       " 'result.o25_2h_home_corners': 'result.o25_home_corners_2h',\n",
       " 'result.o35_1h_away_corners': 'result.o35_away_corners_1h',\n",
       " 'result.o35_1h_corners': 'result.o35_corners_1h',\n",
       " 'result.o35_1h_home_corners': 'result.o35_home_corners_1h',\n",
       " 'result.o35_2h_away_corners': 'result.o35_away_corners_2h',\n",
       " 'result.o35_2h_corners': 'result.o35_corners_2h',\n",
       " 'result.o35_2h_home_corners': 'result.o35_home_corners_2h',\n",
       " 'result.o45_1h_away_corners': 'result.o45_away_corners_1h',\n",
       " 'result.o45_1h_corners': 'result.o45_corners_1h',\n",
       " 'result.o45_1h_home_corners': 'result.o45_home_corners_1h',\n",
       " 'result.o45_2h_away_corners': 'result.o45_away_corners_2h',\n",
       " 'result.o45_2h_corners': 'result.o45_corners_2h',\n",
       " 'result.o45_2h_home_corners': 'result.o45_home_corners_2h',\n",
       " 'result.o55_1h_corners': 'result.o55_corners_1h',\n",
       " 'result.o55_2h_corners': 'result.o55_corners_2h'}"
      ]
     },
     "execution_count": 34,
     "metadata": {},
     "output_type": "execute_result"
    }
   ],
   "source": [
    "{\"result.\"+i:\"result.\"+j for i,j in zip(x,y)}"
   ]
  },
  {
   "cell_type": "code",
   "execution_count": 17,
   "metadata": {},
   "outputs": [],
   "source": [
    "x = []"
   ]
  },
  {
   "cell_type": "code",
   "execution_count": 18,
   "metadata": {},
   "outputs": [],
   "source": [
    "y = []"
   ]
  },
  {
   "cell_type": "code",
   "execution_count": 19,
   "metadata": {},
   "outputs": [
    {
     "data": {
      "text/plain": [
       "{'o25_1h_away_corners': 'o25_away_corners_1h',\n",
       " 'o25_1h_cards': 'o25_cards_1h',\n",
       " 'o25_1h_corners': 'o25_corners_1h',\n",
       " 'o25_1h_home_corners': 'o25_home_corners_1h',\n",
       " 'o25_2h_away_corners': 'o25_away_corners_2h',\n",
       " 'o25_2h_cards': 'o25_cards_2h',\n",
       " 'o25_2h_corners': 'o25_corners_2h',\n",
       " 'o25_2h_home_corners': 'o25_home_corners_2h'}"
      ]
     },
     "execution_count": 19,
     "metadata": {},
     "output_type": "execute_result"
    }
   ],
   "source": [
    "{i:j for i,j in zip(x,y)}"
   ]
  },
  {
   "cell_type": "code",
   "execution_count": 20,
   "metadata": {},
   "outputs": [],
   "source": [
    "x= []"
   ]
  },
  {
   "cell_type": "code",
   "execution_count": 21,
   "metadata": {},
   "outputs": [],
   "source": [
    "y = []"
   ]
  },
  {
   "cell_type": "code",
   "execution_count": 22,
   "metadata": {},
   "outputs": [
    {
     "data": {
      "text/plain": [
       "{'o35_1h_away_corners': 'o35_away_corners_1h',\n",
       " 'o35_1h_corners': 'o35_corners_1h',\n",
       " 'o35_1h_home_corners': 'o35_home_corners_1h',\n",
       " 'o35_2h_away_corners': 'o35_away_corners_2h',\n",
       " 'o35_2h_corners': 'o35_corners_2h',\n",
       " 'o35_2h_home_corners': 'o35_home_corners_2h'}"
      ]
     },
     "execution_count": 22,
     "metadata": {},
     "output_type": "execute_result"
    }
   ],
   "source": [
    "{i:j for i,j in zip(x,y)}"
   ]
  },
  {
   "cell_type": "code",
   "execution_count": 23,
   "metadata": {},
   "outputs": [],
   "source": [
    "x = []"
   ]
  },
  {
   "cell_type": "code",
   "execution_count": 24,
   "metadata": {},
   "outputs": [],
   "source": [
    "y = []"
   ]
  },
  {
   "cell_type": "code",
   "execution_count": 25,
   "metadata": {},
   "outputs": [
    {
     "data": {
      "text/plain": [
       "{'o45_1h_away_corners': 'o45_away_corners_1h',\n",
       " 'o45_1h_corners': 'o45_corners_1h',\n",
       " 'o45_1h_home_corners': 'o45_home_corners_1h',\n",
       " 'o45_2h_away_corners': 'o45_away_corners_2h',\n",
       " 'o45_2h_corners': 'o45_corners_2h',\n",
       " 'o45_2h_home_corners': 'o45_home_corners_2h'}"
      ]
     },
     "execution_count": 25,
     "metadata": {},
     "output_type": "execute_result"
    }
   ],
   "source": [
    "{i:j for i,j in zip(x,y)}"
   ]
  },
  {
   "cell_type": "code",
   "execution_count": 11,
   "metadata": {},
   "outputs": [
    {
     "data": {
      "text/plain": [
       "('o55_2h_corners',)"
      ]
     },
     "execution_count": 11,
     "metadata": {},
     "output_type": "execute_result"
    }
   ],
   "source": []
  },
  {
   "cell_type": "code",
   "execution_count": 13,
   "metadata": {},
   "outputs": [
    {
     "data": {
      "text/plain": [
       "('o55_corners_2h',)"
      ]
     },
     "execution_count": 13,
     "metadata": {},
     "output_type": "execute_result"
    }
   ],
   "source": [
    ","
   ]
  },
  {
   "cell_type": "code",
   "execution_count": 37,
   "metadata": {},
   "outputs": [],
   "source": [
    "import datetime"
   ]
  },
  {
   "cell_type": "code",
   "execution_count": 51,
   "metadata": {},
   "outputs": [
    {
     "data": {
      "text/plain": [
       "'2021-12-09'"
      ]
     },
     "execution_count": 51,
     "metadata": {},
     "output_type": "execute_result"
    }
   ],
   "source": [
    "(datetime.datetime.today()+ datetime.timedelta(days=7)).strftime(\"%Y-%m-%d\")"
   ]
  },
  {
   "cell_type": "code",
   "execution_count": 52,
   "metadata": {},
   "outputs": [
    {
     "data": {
      "text/plain": [
       "'o(\\\\d)5_(\\\\d)h_cards_(for|against)'"
      ]
     },
     "execution_count": 52,
     "metadata": {},
     "output_type": "execute_result"
    }
   ],
   "source": [
    "\"o(\\d)5_(\\d)h_cards_(for|against)\""
   ]
  },
  {
   "cell_type": "code",
   "execution_count": 53,
   "metadata": {},
   "outputs": [
    {
     "data": {
      "text/plain": [
       "'o$15_cards_$3_$2h'"
      ]
     },
     "execution_count": 53,
     "metadata": {},
     "output_type": "execute_result"
    }
   ],
   "source": [
    "\"o$15_cards_$3_$2h\""
   ]
  },
  {
   "cell_type": "code",
   "execution_count": 9,
   "metadata": {},
   "outputs": [],
   "source": [
    "keys= \"\"\"o95_corners_h2h_per\n",
    "o85_corners_h2h_per\n",
    "o75_corners_h2h_per\n",
    "o55_corners_1h_h2h_per\n",
    "o55_cards_h2h_per\n",
    "o45_corners_1h_h2h_per\n",
    "o45_cards_h2h_per\n",
    "o35_corners_1h_h2h_per\n",
    "o35_cards_h2h_per\n",
    "o105_corners_h2h_per\n",
    "most_goals_2h_h2h_per\n",
    "most_goals_1h_h2h_per\n",
    "last_5.o35_goals_h2h_per\n",
    "last_5.o25_goals_h2h_per\n",
    "last_5.o15_goals_h2h_per\n",
    "last_5.o15_goals_2h_h2h_per\n",
    "last_5.o15_goals_1h_h2h_per\n",
    "last_5.o05_goals_2h_h2h_per\n",
    "last_5.o05_goals_1h_h2h_per\n",
    "last_5.no_goals_1h_h2h_per\n",
    "last_5.btts_o25_h2h_per\n",
    "last_5.btts_h2h_per\n",
    "last_10.o35_goals_h2h_per\n",
    "last_10.o25_goals_h2h_per\n",
    "last_10.o15_goals_h2h_per\n",
    "last_10.o15_goals_2h_h2h_per\n",
    "last_10.o15_goals_1h_h2h_per\n",
    "last_10.o05_goals_2h_h2h_per\n",
    "last_10.o05_goals_1h_h2h_per\n",
    "last_10.no_goals_1h_h2h_per\n",
    "last_10.btts_o25_h2h_per\n",
    "last_10.btts_h2h_per\n",
    "btts_or_o25_h2h_per\"\"\""
   ]
  },
  {
   "cell_type": "code",
   "execution_count": 10,
   "metadata": {},
   "outputs": [],
   "source": [
    "values = \"\"\"+9.5 Corners % (H2H)\n",
    "+8.5 Corners % (H2H)\n",
    "+7.5 Corners % (H2H)\n",
    "+5.5 1H Corners % (H2H) \n",
    "+5.5 Cards % (H2H)\n",
    "+4.5 1H Corners % (H2H) \n",
    "+4.5 Cards % (H2H)\n",
    "+3.5 1H Corners % (H2H) \n",
    "+3.5 Cards % (H2H)\n",
    "+10.5 Corners % (H2H)\n",
    "More Goals in 2H than 1H % (H2H)\n",
    "More goals in 1H than 2H % (H2H)\n",
    "+3.5 Goals % in last 5 Matches (H2H)\n",
    "+2.5 Goals % in last 5 Matches (H2H)\n",
    "+1.5 Goals % in last 5 Matches (H2H)\n",
    "+1.5 2H Goals % in last 5 Matches (H2H)\n",
    "+1.5 1H Goals % in last 5 Matches (H2H)\n",
    "+0.5 2H Goals % in last 5 Matches (H2H)\n",
    "+0.5 1H Goals % in last 5 Matches (H2H)\n",
    "0-0 (1H) in last 5 matches % (H2H) \n",
    "BTTS & Over 2.5 Goals % in last 5 matches (H2H)\n",
    "BTTS % in last 5 Matches (H2H)\n",
    "+3.5 Goals % in last 10 Matches (H2H)\n",
    "+2.5 Goals % in last 10 Matches (H2H)\n",
    "+1.5 Goals % in last 10 Matches (H2H)\n",
    "+1.5 2H Goals % in last 10 Matches (H2H)\n",
    "+1.5 1H Goals % in last 10 Matches (H2H)\n",
    "+0.5 2H Goals % in last 10 Matches (H2H)\n",
    "+0.5 1H Goals % in last 10 Matches (H2H)\n",
    "0-0 (1H) in last 10 matches % (H2H) \n",
    "BTTS & Over 2.5 Goals % in last 10 matches (H2H)\n",
    "BTTS % in last 10 Matches (H2H)\n",
    "BTTS or Over 2.5 Goals % (H2H)\"\"\""
   ]
  },
  {
   "cell_type": "code",
   "execution_count": 11,
   "metadata": {},
   "outputs": [],
   "source": [
    "keys = keys.splitlines()\n",
    "values = values.splitlines()"
   ]
  },
  {
   "cell_type": "code",
   "execution_count": 12,
   "metadata": {},
   "outputs": [
    {
     "data": {
      "text/plain": [
       "{'o95_corners_h2h_per': '+9.5 Corners % (H2H)',\n",
       " 'o85_corners_h2h_per': '+8.5 Corners % (H2H)',\n",
       " 'o75_corners_h2h_per': '+7.5 Corners % (H2H)',\n",
       " 'o55_corners_1h_h2h_per': '+5.5 1H Corners % (H2H) ',\n",
       " 'o55_cards_h2h_per': '+5.5 Cards % (H2H)',\n",
       " 'o45_corners_1h_h2h_per': '+4.5 1H Corners % (H2H) ',\n",
       " 'o45_cards_h2h_per': '+4.5 Cards % (H2H)',\n",
       " 'o35_corners_1h_h2h_per': '+3.5 1H Corners % (H2H) ',\n",
       " 'o35_cards_h2h_per': '+3.5 Cards % (H2H)',\n",
       " 'o105_corners_h2h_per': '+10.5 Corners % (H2H)',\n",
       " 'most_goals_2h_h2h_per': 'More Goals in 2H than 1H % (H2H)',\n",
       " 'most_goals_1h_h2h_per': 'More goals in 1H than 2H % (H2H)',\n",
       " 'last_5.o35_goals_h2h_per': '+3.5 Goals % in last 5 Matches (H2H)',\n",
       " 'last_5.o25_goals_h2h_per': '+2.5 Goals % in last 5 Matches (H2H)',\n",
       " 'last_5.o15_goals_h2h_per': '+1.5 Goals % in last 5 Matches (H2H)',\n",
       " 'last_5.o15_goals_2h_h2h_per': '+1.5 2H Goals % in last 5 Matches (H2H)',\n",
       " 'last_5.o15_goals_1h_h2h_per': '+1.5 1H Goals % in last 5 Matches (H2H)',\n",
       " 'last_5.o05_goals_2h_h2h_per': '+0.5 2H Goals % in last 5 Matches (H2H)',\n",
       " 'last_5.o05_goals_1h_h2h_per': '+0.5 1H Goals % in last 5 Matches (H2H)',\n",
       " 'last_5.no_goals_1h_h2h_per': '0-0 (1H) in last 5 matches % (H2H) ',\n",
       " 'last_5.btts_o25_h2h_per': 'BTTS & Over 2.5 Goals % in last 5 matches (H2H)',\n",
       " 'last_5.btts_h2h_per': 'BTTS % in last 5 Matches (H2H)',\n",
       " 'last_10.o35_goals_h2h_per': '+3.5 Goals % in last 10 Matches (H2H)',\n",
       " 'last_10.o25_goals_h2h_per': '+2.5 Goals % in last 10 Matches (H2H)',\n",
       " 'last_10.o15_goals_h2h_per': '+1.5 Goals % in last 10 Matches (H2H)',\n",
       " 'last_10.o15_goals_2h_h2h_per': '+1.5 2H Goals % in last 10 Matches (H2H)',\n",
       " 'last_10.o15_goals_1h_h2h_per': '+1.5 1H Goals % in last 10 Matches (H2H)',\n",
       " 'last_10.o05_goals_2h_h2h_per': '+0.5 2H Goals % in last 10 Matches (H2H)',\n",
       " 'last_10.o05_goals_1h_h2h_per': '+0.5 1H Goals % in last 10 Matches (H2H)',\n",
       " 'last_10.no_goals_1h_h2h_per': '0-0 (1H) in last 10 matches % (H2H) ',\n",
       " 'last_10.btts_o25_h2h_per': 'BTTS & Over 2.5 Goals % in last 10 matches (H2H)',\n",
       " 'last_10.btts_h2h_per': 'BTTS % in last 10 Matches (H2H)',\n",
       " 'btts_or_o25_h2h_per': 'BTTS or Over 2.5 Goals % (H2H)'}"
      ]
     },
     "execution_count": 12,
     "metadata": {},
     "output_type": "execute_result"
    }
   ],
   "source": [
    "{k:v for k,v in zip(keys, values)}"
   ]
  },
  {
   "cell_type": "code",
   "execution_count": null,
   "metadata": {},
   "outputs": [],
   "source": []
  },
  {
   "cell_type": "code",
   "execution_count": null,
   "metadata": {},
   "outputs": [],
   "source": []
  }
 ],
 "metadata": {
  "interpreter": {
   "hash": "90bd059e05f79fb9b7cf5d2b1dae6ea26ca779772e058f49dd8fbe1978749df0"
  },
  "kernelspec": {
   "display_name": "Python 3.8.12 64-bit",
   "language": "python",
   "name": "python3"
  },
  "language_info": {
   "codemirror_mode": {
    "name": "ipython",
    "version": 3
   },
   "file_extension": ".py",
   "mimetype": "text/x-python",
   "name": "python",
   "nbconvert_exporter": "python",
   "pygments_lexer": "ipython3",
   "version": "3.8.12"
  },
  "orig_nbformat": 4
 },
 "nbformat": 4,
 "nbformat_minor": 2
}
